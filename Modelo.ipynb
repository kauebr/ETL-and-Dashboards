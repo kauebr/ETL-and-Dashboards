{
 "cells": [
  {
   "cell_type": "markdown",
   "metadata": {},
   "source": [
    "<img src=\"https://i.ibb.co/2t8djfy/datascience-Banner.png\" width=\"1200\" alt=\"KCode Banner\"  /> \n",
    "\n",
    "<a href=\"https://www.linkedin.com/in/kauebr/\"><img src=\"https://cdn-icons-png.flaticon.com/512/174/174857.png\" width=\"30\" ></a> <a href=\"mailto: kauemandarino@gmail.com\"><img src=\"https://cdn-icons-png.flaticon.com/512/5968/5968534.png\" width=\"30\" ></a><a href=\"\n",
    "https://api.whatsapp.com/send?phone=5541991835800&text=Oi\"> <img src=\"https://imagepng.org/wp-content/uploads/2017/08/whatsapp-icone-1.png\" width=\"30\" ></a><a href=\"https://github.com/kauebr/\"><img src=\"https://github.githubassets.com/images/modules/logos_page/Octocat.png\" width=\"30\" ></a>\n",
    "\n"
   ]
  },
  {
   "cell_type": "markdown",
   "metadata": {},
   "source": [
    "# Google Data Studio Dashboards\n",
    "\n",
    "## Objectives:\n",
    "* Obtain an open dataset about Brazilian steel industry;\n",
    "* Reduzir os dados;\n",
    "* Model the reduced information and transform into a dataframe;\n",
    "* Load our dataframe into Google Data Studio;\n",
    "* Create dashboards.\n",
    "<hr>"
   ]
  },
  {
   "cell_type": "markdown",
   "metadata": {},
   "source": [
    "<h1>Summary</h1>\n",
    "\n",
    "<div class=\"alert alert-block alert-info\" style=\"margin-top: 20px\">\n",
    "    <ol>\n",
    "        <li><a href=#DF>Criando DataFrame</a></li>\n",
    "        <li><a href=#Dados>Entendendo os dados</a></li>\n",
    "        <li><a href=#Graf>Gráficos</a></li>\n",
    "        <li><a href=#TT>Treino e teste</a></li>\n",
    "        <li><a href=#Reg>Criando Modelo de regressão linear múltipla</a></li>\n",
    "        <li><a href=#Pred>Predições e Avaliações</a></li>    \n",
    "    </ol>\n",
    "</div>\n",
    "<br>\n",
    "<hr>\n",
    "\n"
   ]
  },
  {
   "cell_type": "markdown",
   "metadata": {},
   "source": [
    "# <h2 id=\"1\">1. Data Mining(Extract)</h2>"
   ]
  },
  {
   "cell_type": "markdown",
   "metadata": {},
   "source": [
    "## In this step, we will use a dataset from the [Brazilian Steel Institute](https://acobrasil.org.br/site/sobre-o-instituto/), an entity founded in 1963 that represents Brazilian steel-producing companies. This dataset contains data of Brazilian steel production from 2013 to 2022. [Source](https://acobrasil.org.br/site/estatistica-mensal/#:~:text=O%20consumo%20aparente%20de%20produtos,m%C3%AAs%20de%20mar%C3%A7o%20de%202022.)"
   ]
  },
  {
   "cell_type": "markdown",
   "metadata": {},
   "source": [
    "### Let's take a look at the raw data, it came in .xls format\n",
    "\n",
    "<img src=\"https://i.ibb.co/s2FkvZS/raw-dataset.png\" width=\"1200\" alt=\"raw dataset\"  /> \n",
    "\n"
   ]
  },
  {
   "cell_type": "markdown",
   "metadata": {},
   "source": [
    "As informações estão semi extruturadas\n",
    "Dataset size: 41 rows, 114 columns with a total of 4407 unique values.\n",
    "<hr>"
   ]
  },
  {
   "cell_type": "markdown",
   "metadata": {},
   "source": [
    "# <h2 id=\"1\">2. Data Reduce(Transform)</h2>"
   ]
  },
  {
   "cell_type": "markdown",
   "metadata": {},
   "source": [
    "## Vamo escolher algumas informações para analisarmos\n",
    " * Utilizando o EXCEL selecionamos apenas os anos de 2018 e 2020 , foi o periodo anterior e imediato após a pandemia de covid19.\n",
    "Para isto fiz uma cópia da planinha dos dados originais, descongeleis os painéis e exclui os dados referentes aos outros anos, deixando somente os dados de 2019 a 2020.\n",
    "Ficou assim:"
   ]
  },
  {
   "cell_type": "markdown",
   "metadata": {},
   "source": [
    "<img src=\"https://i.ibb.co/KXNBfpz/filtered-data.png\" width=\"1200\" alt=\"Filtered Data\"  /> \n"
   ]
  },
  {
   "cell_type": "markdown",
   "metadata": {},
   "source": [
    "Após isto selecionei algumas caracteristicas para aplicar nossa análise e destaquei elas em amarelo"
   ]
  },
  {
   "cell_type": "markdown",
   "metadata": {},
   "source": [
    "<img src=\"https://i.ibb.co/7CS67Dj/high-info.png\" width=\"1200\" alt=\"High Info\"  /> \n"
   ]
  },
  {
   "cell_type": "markdown",
   "metadata": {},
   "source": [
    "Ao reduzir as informações notamos que os dados estavam linkados e com auto soma, o que deu erro de referencia, a solução foi fixar os dados antes de https:/\n",
    "<img src=\"https://i.ibb.co/zS7HYXR/ref-error.png\" width=\"1200\" alt=\"Ref Error\"  /> \n"
   ]
  },
  {
   "cell_type": "markdown",
   "metadata": {},
   "source": [
    "Uma vez fixados os dados reduzimos nosso conjunto a isto;\n",
    "<img src=\"https://i.ibb.co/0c2nPjD/reduced-data.png\" width=\"1200\" alt=\"Reduced Data\"  /> \n",
    "\n",
    "Os 4407 valores inicias do conjunto agora foram reduzidos para apenas 264\n",
    "\n",
    "A etapa de redução foi concluída\n",
    "<hr>"
   ]
  },
  {
   "cell_type": "markdown",
   "metadata": {},
   "source": [
    "# <h2 id=\"3\">3. Data Modeling</h2>"
   ]
  },
  {
   "cell_type": "markdown",
   "metadata": {},
   "source": [
    "## Nesta etapa vamos modelar os dados em um dataframe que consiga ser lido pelo google data studio posteriormente"
   ]
  },
  {
   "cell_type": "markdown",
   "metadata": {},
   "source": [
    "primeiramente padronizamos as datas e extruturamos as informações em modelo matricial"
   ]
  },
  {
   "cell_type": "markdown",
   "metadata": {},
   "source": [
    "<img src=\"https://i.ibb.co/R2zNGNZ/data-modeling.png\" width=\"1200\" alt=\"Reduced Data\"  /> \n"
   ]
  },
  {
   "cell_type": "markdown",
   "metadata": {},
   "source": [
    "### Entao transformamos de xls para csv que é um excelente formato mais favoravel para o streaming de dados\n",
    "\n",
    "Criamos 3 arquivs .csv:\n",
    "\n",
    "* Producao 2018 ~ 2019\n",
    "\n",
    "* Exports 2018 ~ 2019\n",
    "\n",
    "* Imports 2018 ~ 2019\n"
   ]
  },
  {
   "cell_type": "markdown",
   "metadata": {},
   "source": [
    "`As informações no formato .csv ficaram assim:`\n",
    "\n",
    "Production;Jan-18;Feb-18;Mar-18;Apr-18;May-18;Jun-18;Jul-18;Aug-18;Sep-18;Oct-18;Nov-18;Dec-18;Jan-19;Feb-19;Mar-19;Apr-19;May-19;Jun-19;Jul-19;Aug-19;Sep-19;Oct-19;Nov-19;Dec-19\n",
    "Crude Steel;2.914;2.766;3.113;2.995;2.724;2.970;3.086;2.914;3.081;3.224;2.911;2.709;3.021;2.747;2.878;2.970;2.826;2.883;2.505;2.537;2.394;2.690;2.657;2.462\n",
    "Rolled Products;1.923;1.861;2.130;2.038;2.026;1.918;1.947;1.906;2.107;2.129;2.054;1.657;1.907;1.865;2.060;1.942;2.010;1.801;1.894;1.895;1.969;1.887;1.774;1.482\n",
    "Pig Iron;2.368;2.171;2.442;2.356;2.239;2.375;2.481;2.349;2.533;2.557;2.345;2.439;2.451;2.201;2.356;2.383;2.295;2.277;1.879;1.926;1.906;2.193;2.179;2.233\n",
    "\n",
    "Imports;Jan-18;Feb-18;Mar-18;Apr-18;May-18;Jun-18;Jul-18;Aug-18;Sep-18;Oct-18;Nov-18;Dec-18;Jan-19;Feb-19;Mar-19;Apr-19;May-19;Jun-19;Jul-19;Aug-19;Sep-19;Oct-19;Nov-19;Dec-19\n",
    "Rolled Products;215;147;212;198;200;228;213;182;189;123;170;157;174;176;196;180;231;166;199;182;182;209;126;133\n",
    "Thousand Tonnes;217;158;213;202;242;231;216;246;225;125;172;160;177;204;233;244;233;168;201;251;184;210;128;133\n",
    "US$ Millions;241;181;224;226;233;234;240;251;231;178;204;167;212;205;216;227;237;180;221;231;211;219;156;148\n",
    "\n",
    "Exports;Jan-18;Feb-18;Mar-18;Apr-18;May-18;Jun-18;Jul-18;Aug-18;Sep-18;Oct-18;Nov-18;Dec-18;Jan-19;Feb-19;Mar-19;Apr-19;May-19;Jun-19;Jul-19;Aug-19;Sep-19;Oct-19;Nov-19;Dec-19\n",
    "Rolled Products;488;398;476;379;301;404;267;502;216;407;491;421;543;373;254;348;410;379;267;274;371;423;294;225\n",
    "Thousand Tonnes;1.352;1.034;1.192;1.098;753;1.451;984;602;1.055;1.822;1.315;1.287;1.583;897;811;1.064;1.235;1.099;1.000;917;956;1.144;1.089;1.010\n",
    "US$ Millions;796;604;753;706;484;949;627;488;704;1.177;843;743;946;545;464;616;760;686;582;538;523;604;543;502"
   ]
  },
  {
   "cell_type": "markdown",
   "metadata": {},
   "source": [
    "Vamos testar a modelaçao das informações utilizando o pandas."
   ]
  },
  {
   "cell_type": "code",
   "execution_count": 22,
   "metadata": {},
   "outputs": [],
   "source": [
    "import pandas as pd # Importing library pandas to python\n",
    "\n",
    "# Reading ing .csv files\n",
    "df_Prod = pd.read_csv('Production.csv', sep=';')\n",
    "df_Exp = pd.read_csv('Exports.csv', sep=';')\n",
    "df_Imp = pd.read_csv('Imports.csv', sep=';')\n"
   ]
  },
  {
   "cell_type": "markdown",
   "metadata": {},
   "source": [
    "Showing the modeled data"
   ]
  },
  {
   "cell_type": "code",
   "execution_count": 25,
   "metadata": {},
   "outputs": [
    {
     "data": {
      "text/html": [
       "<div>\n",
       "<style scoped>\n",
       "    .dataframe tbody tr th:only-of-type {\n",
       "        vertical-align: middle;\n",
       "    }\n",
       "\n",
       "    .dataframe tbody tr th {\n",
       "        vertical-align: top;\n",
       "    }\n",
       "\n",
       "    .dataframe thead th {\n",
       "        text-align: right;\n",
       "    }\n",
       "</style>\n",
       "<table border=\"1\" class=\"dataframe\">\n",
       "  <thead>\n",
       "    <tr style=\"text-align: right;\">\n",
       "      <th></th>\n",
       "      <th>Production</th>\n",
       "      <th>jan/18</th>\n",
       "      <th>fev/18</th>\n",
       "      <th>mar/18</th>\n",
       "      <th>abr/18</th>\n",
       "      <th>mai/18</th>\n",
       "      <th>jun/18</th>\n",
       "      <th>jul/18</th>\n",
       "      <th>ago/18</th>\n",
       "      <th>set/18</th>\n",
       "      <th>...</th>\n",
       "      <th>mar/19</th>\n",
       "      <th>abr/19</th>\n",
       "      <th>mai/19</th>\n",
       "      <th>jun/19</th>\n",
       "      <th>jul/19</th>\n",
       "      <th>ago/19</th>\n",
       "      <th>set/19</th>\n",
       "      <th>out/19</th>\n",
       "      <th>nov/19</th>\n",
       "      <th>dez/19</th>\n",
       "    </tr>\n",
       "  </thead>\n",
       "  <tbody>\n",
       "    <tr>\n",
       "      <th>0</th>\n",
       "      <td>Crude Steel</td>\n",
       "      <td>2.914</td>\n",
       "      <td>2.766</td>\n",
       "      <td>3.113</td>\n",
       "      <td>2.995</td>\n",
       "      <td>2.724</td>\n",
       "      <td>2.970</td>\n",
       "      <td>3.086</td>\n",
       "      <td>2.914</td>\n",
       "      <td>3.081</td>\n",
       "      <td>...</td>\n",
       "      <td>2.878</td>\n",
       "      <td>2.970</td>\n",
       "      <td>2.826</td>\n",
       "      <td>2.883</td>\n",
       "      <td>2.505</td>\n",
       "      <td>2.537</td>\n",
       "      <td>2.394</td>\n",
       "      <td>2.690</td>\n",
       "      <td>2.657</td>\n",
       "      <td>2.462</td>\n",
       "    </tr>\n",
       "    <tr>\n",
       "      <th>1</th>\n",
       "      <td>Rolled Products</td>\n",
       "      <td>1.923</td>\n",
       "      <td>1.861</td>\n",
       "      <td>2.130</td>\n",
       "      <td>2.038</td>\n",
       "      <td>2.026</td>\n",
       "      <td>1.918</td>\n",
       "      <td>1.947</td>\n",
       "      <td>1.906</td>\n",
       "      <td>2.107</td>\n",
       "      <td>...</td>\n",
       "      <td>2.060</td>\n",
       "      <td>1.942</td>\n",
       "      <td>2.010</td>\n",
       "      <td>1.801</td>\n",
       "      <td>1.894</td>\n",
       "      <td>1.895</td>\n",
       "      <td>1.969</td>\n",
       "      <td>1.887</td>\n",
       "      <td>1.774</td>\n",
       "      <td>1.482</td>\n",
       "    </tr>\n",
       "    <tr>\n",
       "      <th>2</th>\n",
       "      <td>Pig Iron</td>\n",
       "      <td>2.368</td>\n",
       "      <td>2.171</td>\n",
       "      <td>2.442</td>\n",
       "      <td>2.356</td>\n",
       "      <td>2.239</td>\n",
       "      <td>2.375</td>\n",
       "      <td>2.481</td>\n",
       "      <td>2.349</td>\n",
       "      <td>2.533</td>\n",
       "      <td>...</td>\n",
       "      <td>2.356</td>\n",
       "      <td>2.383</td>\n",
       "      <td>2.295</td>\n",
       "      <td>2.277</td>\n",
       "      <td>1.879</td>\n",
       "      <td>1.926</td>\n",
       "      <td>1.906</td>\n",
       "      <td>2.193</td>\n",
       "      <td>2.179</td>\n",
       "      <td>2.233</td>\n",
       "    </tr>\n",
       "  </tbody>\n",
       "</table>\n",
       "<p>3 rows × 25 columns</p>\n",
       "</div>"
      ],
      "text/plain": [
       "        Production  jan/18  fev/18  mar/18  abr/18  mai/18  jun/18  jul/18  \\\n",
       "0      Crude Steel   2.914   2.766   3.113   2.995   2.724   2.970   3.086   \n",
       "1  Rolled Products   1.923   1.861   2.130   2.038   2.026   1.918   1.947   \n",
       "2         Pig Iron   2.368   2.171   2.442   2.356   2.239   2.375   2.481   \n",
       "\n",
       "   ago/18  set/18  ...  mar/19  abr/19  mai/19  jun/19  jul/19  ago/19  \\\n",
       "0   2.914   3.081  ...   2.878   2.970   2.826   2.883   2.505   2.537   \n",
       "1   1.906   2.107  ...   2.060   1.942   2.010   1.801   1.894   1.895   \n",
       "2   2.349   2.533  ...   2.356   2.383   2.295   2.277   1.879   1.926   \n",
       "\n",
       "   set/19  out/19  nov/19  dez/19  \n",
       "0   2.394   2.690   2.657   2.462  \n",
       "1   1.969   1.887   1.774   1.482  \n",
       "2   1.906   2.193   2.179   2.233  \n",
       "\n",
       "[3 rows x 25 columns]"
      ]
     },
     "execution_count": 25,
     "metadata": {},
     "output_type": "execute_result"
    }
   ],
   "source": [
    "df_Prod"
   ]
  },
  {
   "cell_type": "code",
   "execution_count": 23,
   "metadata": {},
   "outputs": [
    {
     "data": {
      "text/html": [
       "<div>\n",
       "<style scoped>\n",
       "    .dataframe tbody tr th:only-of-type {\n",
       "        vertical-align: middle;\n",
       "    }\n",
       "\n",
       "    .dataframe tbody tr th {\n",
       "        vertical-align: top;\n",
       "    }\n",
       "\n",
       "    .dataframe thead th {\n",
       "        text-align: right;\n",
       "    }\n",
       "</style>\n",
       "<table border=\"1\" class=\"dataframe\">\n",
       "  <thead>\n",
       "    <tr style=\"text-align: right;\">\n",
       "      <th></th>\n",
       "      <th>Exports</th>\n",
       "      <th>jan/18</th>\n",
       "      <th>fev/18</th>\n",
       "      <th>mar/18</th>\n",
       "      <th>abr/18</th>\n",
       "      <th>mai/18</th>\n",
       "      <th>jun/18</th>\n",
       "      <th>jul/18</th>\n",
       "      <th>ago/18</th>\n",
       "      <th>set/18</th>\n",
       "      <th>...</th>\n",
       "      <th>mar/19</th>\n",
       "      <th>abr/19</th>\n",
       "      <th>mai/19</th>\n",
       "      <th>jun/19</th>\n",
       "      <th>jul/19</th>\n",
       "      <th>ago/19</th>\n",
       "      <th>set/19</th>\n",
       "      <th>out/19</th>\n",
       "      <th>nov/19</th>\n",
       "      <th>dez/19</th>\n",
       "    </tr>\n",
       "  </thead>\n",
       "  <tbody>\n",
       "    <tr>\n",
       "      <th>0</th>\n",
       "      <td>Rolled Products</td>\n",
       "      <td>488.000</td>\n",
       "      <td>398.000</td>\n",
       "      <td>476.000</td>\n",
       "      <td>379.000</td>\n",
       "      <td>301</td>\n",
       "      <td>404.000</td>\n",
       "      <td>267</td>\n",
       "      <td>502</td>\n",
       "      <td>216.000</td>\n",
       "      <td>...</td>\n",
       "      <td>254</td>\n",
       "      <td>348.000</td>\n",
       "      <td>410.000</td>\n",
       "      <td>379.000</td>\n",
       "      <td>267.0</td>\n",
       "      <td>274</td>\n",
       "      <td>371</td>\n",
       "      <td>423.000</td>\n",
       "      <td>294.000</td>\n",
       "      <td>225.00</td>\n",
       "    </tr>\n",
       "    <tr>\n",
       "      <th>1</th>\n",
       "      <td>Thousand Tonnes</td>\n",
       "      <td>1.352</td>\n",
       "      <td>1.034</td>\n",
       "      <td>1.192</td>\n",
       "      <td>1.098</td>\n",
       "      <td>753</td>\n",
       "      <td>1.451</td>\n",
       "      <td>984</td>\n",
       "      <td>602</td>\n",
       "      <td>1.055</td>\n",
       "      <td>...</td>\n",
       "      <td>811</td>\n",
       "      <td>1.064</td>\n",
       "      <td>1.235</td>\n",
       "      <td>1.099</td>\n",
       "      <td>1.0</td>\n",
       "      <td>917</td>\n",
       "      <td>956</td>\n",
       "      <td>1.144</td>\n",
       "      <td>1.089</td>\n",
       "      <td>1.01</td>\n",
       "    </tr>\n",
       "    <tr>\n",
       "      <th>2</th>\n",
       "      <td>US$ Millions</td>\n",
       "      <td>796.000</td>\n",
       "      <td>604.000</td>\n",
       "      <td>753.000</td>\n",
       "      <td>706.000</td>\n",
       "      <td>484</td>\n",
       "      <td>949.000</td>\n",
       "      <td>627</td>\n",
       "      <td>488</td>\n",
       "      <td>704.000</td>\n",
       "      <td>...</td>\n",
       "      <td>464</td>\n",
       "      <td>616.000</td>\n",
       "      <td>760.000</td>\n",
       "      <td>686.000</td>\n",
       "      <td>582.0</td>\n",
       "      <td>538</td>\n",
       "      <td>523</td>\n",
       "      <td>604.000</td>\n",
       "      <td>543.000</td>\n",
       "      <td>502.00</td>\n",
       "    </tr>\n",
       "  </tbody>\n",
       "</table>\n",
       "<p>3 rows × 25 columns</p>\n",
       "</div>"
      ],
      "text/plain": [
       "           Exports   jan/18   fev/18   mar/18   abr/18  mai/18   jun/18  \\\n",
       "0  Rolled Products  488.000  398.000  476.000  379.000     301  404.000   \n",
       "1  Thousand Tonnes    1.352    1.034    1.192    1.098     753    1.451   \n",
       "2     US$ Millions  796.000  604.000  753.000  706.000     484  949.000   \n",
       "\n",
       "   jul/18  ago/18   set/18  ...  mar/19   abr/19   mai/19   jun/19  jul/19  \\\n",
       "0     267     502  216.000  ...     254  348.000  410.000  379.000   267.0   \n",
       "1     984     602    1.055  ...     811    1.064    1.235    1.099     1.0   \n",
       "2     627     488  704.000  ...     464  616.000  760.000  686.000   582.0   \n",
       "\n",
       "   ago/19  set/19   out/19   nov/19  dez/19  \n",
       "0     274     371  423.000  294.000  225.00  \n",
       "1     917     956    1.144    1.089    1.01  \n",
       "2     538     523  604.000  543.000  502.00  \n",
       "\n",
       "[3 rows x 25 columns]"
      ]
     },
     "execution_count": 23,
     "metadata": {},
     "output_type": "execute_result"
    }
   ],
   "source": [
    "df_Exp"
   ]
  },
  {
   "cell_type": "code",
   "execution_count": 24,
   "metadata": {},
   "outputs": [
    {
     "data": {
      "text/html": [
       "<div>\n",
       "<style scoped>\n",
       "    .dataframe tbody tr th:only-of-type {\n",
       "        vertical-align: middle;\n",
       "    }\n",
       "\n",
       "    .dataframe tbody tr th {\n",
       "        vertical-align: top;\n",
       "    }\n",
       "\n",
       "    .dataframe thead th {\n",
       "        text-align: right;\n",
       "    }\n",
       "</style>\n",
       "<table border=\"1\" class=\"dataframe\">\n",
       "  <thead>\n",
       "    <tr style=\"text-align: right;\">\n",
       "      <th></th>\n",
       "      <th>Imports</th>\n",
       "      <th>jan/18</th>\n",
       "      <th>fev/18</th>\n",
       "      <th>mar/18</th>\n",
       "      <th>abr/18</th>\n",
       "      <th>mai/18</th>\n",
       "      <th>jun/18</th>\n",
       "      <th>jul/18</th>\n",
       "      <th>ago/18</th>\n",
       "      <th>set/18</th>\n",
       "      <th>...</th>\n",
       "      <th>mai/19</th>\n",
       "      <th>jun/19</th>\n",
       "      <th>jul/19</th>\n",
       "      <th>ago/19</th>\n",
       "      <th>set/19</th>\n",
       "      <th>out/19</th>\n",
       "      <th>nov/19</th>\n",
       "      <th>dez/19</th>\n",
       "      <th>Unnamed: 25</th>\n",
       "      <th>Unnamed: 26</th>\n",
       "    </tr>\n",
       "  </thead>\n",
       "  <tbody>\n",
       "    <tr>\n",
       "      <th>0</th>\n",
       "      <td>Rolled Products</td>\n",
       "      <td>215</td>\n",
       "      <td>147</td>\n",
       "      <td>212</td>\n",
       "      <td>198</td>\n",
       "      <td>200</td>\n",
       "      <td>228</td>\n",
       "      <td>213</td>\n",
       "      <td>182</td>\n",
       "      <td>189</td>\n",
       "      <td>...</td>\n",
       "      <td>231</td>\n",
       "      <td>166</td>\n",
       "      <td>199</td>\n",
       "      <td>182</td>\n",
       "      <td>182</td>\n",
       "      <td>209</td>\n",
       "      <td>126</td>\n",
       "      <td>133</td>\n",
       "      <td>NaN</td>\n",
       "      <td>NaN</td>\n",
       "    </tr>\n",
       "    <tr>\n",
       "      <th>1</th>\n",
       "      <td>Thousand Tonnes</td>\n",
       "      <td>217</td>\n",
       "      <td>158</td>\n",
       "      <td>213</td>\n",
       "      <td>202</td>\n",
       "      <td>242</td>\n",
       "      <td>231</td>\n",
       "      <td>216</td>\n",
       "      <td>246</td>\n",
       "      <td>225</td>\n",
       "      <td>...</td>\n",
       "      <td>233</td>\n",
       "      <td>168</td>\n",
       "      <td>201</td>\n",
       "      <td>251</td>\n",
       "      <td>184</td>\n",
       "      <td>210</td>\n",
       "      <td>128</td>\n",
       "      <td>133</td>\n",
       "      <td>NaN</td>\n",
       "      <td>NaN</td>\n",
       "    </tr>\n",
       "    <tr>\n",
       "      <th>2</th>\n",
       "      <td>US$ Millions</td>\n",
       "      <td>241</td>\n",
       "      <td>181</td>\n",
       "      <td>224</td>\n",
       "      <td>226</td>\n",
       "      <td>233</td>\n",
       "      <td>234</td>\n",
       "      <td>240</td>\n",
       "      <td>251</td>\n",
       "      <td>231</td>\n",
       "      <td>...</td>\n",
       "      <td>237</td>\n",
       "      <td>180</td>\n",
       "      <td>221</td>\n",
       "      <td>231</td>\n",
       "      <td>211</td>\n",
       "      <td>219</td>\n",
       "      <td>156</td>\n",
       "      <td>148</td>\n",
       "      <td>NaN</td>\n",
       "      <td>NaN</td>\n",
       "    </tr>\n",
       "  </tbody>\n",
       "</table>\n",
       "<p>3 rows × 27 columns</p>\n",
       "</div>"
      ],
      "text/plain": [
       "           Imports  jan/18  fev/18  mar/18  abr/18  mai/18  jun/18  jul/18  \\\n",
       "0  Rolled Products     215     147     212     198     200     228     213   \n",
       "1  Thousand Tonnes     217     158     213     202     242     231     216   \n",
       "2     US$ Millions     241     181     224     226     233     234     240   \n",
       "\n",
       "   ago/18  set/18  ...  mai/19  jun/19  jul/19  ago/19  set/19  out/19  \\\n",
       "0     182     189  ...     231     166     199     182     182     209   \n",
       "1     246     225  ...     233     168     201     251     184     210   \n",
       "2     251     231  ...     237     180     221     231     211     219   \n",
       "\n",
       "   nov/19  dez/19  Unnamed: 25  Unnamed: 26  \n",
       "0     126     133          NaN          NaN  \n",
       "1     128     133          NaN          NaN  \n",
       "2     156     148          NaN          NaN  \n",
       "\n",
       "[3 rows x 27 columns]"
      ]
     },
     "execution_count": 24,
     "metadata": {},
     "output_type": "execute_result"
    }
   ],
   "source": [
    "df_Imp"
   ]
  },
  {
   "cell_type": "markdown",
   "metadata": {},
   "source": [
    ">Dados validados com sucesso"
   ]
  },
  {
   "cell_type": "markdown",
   "metadata": {},
   "source": [
    "Esta foi a etapa mais trabalhosa, uma vez os dados modelados, conseguimos trabalhar com eles, com eles dentro do python conseguiriamos por exemplo aplicar modelos de inteligencia artificial que conseguem prever tendencias com base na serie de dados ao longo dos anos, conseguindo assim prever quanto ferro bruto será produzido em 2023 no Brasil com uma precisão alta de acerto, mas este não é objetivo desta análise. Para ver meus algoritmos de Machine learning [clique aqui](https://github.com/kauebr/Machine-Learning-Projects-IBM)\n",
    "Etapal de modelação de dados concluída\n",
    "<hr>\n",
    "\n",
    " "
   ]
  },
  {
   "cell_type": "markdown",
   "metadata": {},
   "source": [
    "# <h2 id=\"4\">4. Load our dataframe into Google Data Studio (Load)</h2>"
   ]
  },
  {
   "cell_type": "markdown",
   "metadata": {},
   "source": [
    "Uma vez os dados modelados, temos que carregalos para posterior análise"
   ]
  },
  {
   "cell_type": "markdown",
   "metadata": {},
   "source": [
    "Correção de erros de modelação\n",
    "\n",
    "* Na primeira vez que tentei subir os dados, tivemos um erro nas datas, que foi corrigido entrando no cvs com um editor de texto.\n",
    "* Na segunda vez que tentei subir houve um erro de formatação, após procurar um pouco, vi que era um erro formatação, havia um ponto para separar os milhares, que estava sendo reconhecido como ponto flutuante. o .csv foi corrigido utilizando o python com o seguinte código:"
   ]
  },
  {
   "cell_type": "code",
   "execution_count": 33,
   "metadata": {},
   "outputs": [
    {
     "data": {
      "text/plain": [
       "'Production;Jan-18;Feb-18;Mar-18;Apr-18;May-18;Jun-18;Jul-18;Aug-18;Sep-18;Oct-18;Nov-18;Dec-18;Jan-19;Feb-19;Mar-19;Apr-19;May-19;Jun-19;Jul-19;Aug-19;Sep-19;Oct-19;Nov-19;Dec-19\\nCrude Steel;2914;2766;3113;2995;2724;2970;3086;2914;3081;3224;2911;2709;3021;2747;2878;2970;2826;2883;2505;2537;2394;2690;2657;2462\\nRolled Products;1923;1861;2130;2038;2026;1918;1947;1906;2107;2129;2054;1657;1907;1865;2060;1942;2010;1801;1894;1895;1969;1887;1774;1482\\nPig Iron;2368;2171;2442;2356;2239;2375;2481;2349;2533;2557;2345;2439;2451;2201;2356;2383;2295;2277;1879;1926;1906;2193;2179;2233\\n'"
      ]
     },
     "execution_count": 33,
     "metadata": {},
     "output_type": "execute_result"
    }
   ],
   "source": [
    "x = ('''Production;Jan-18;Feb-18;Mar-18;Apr-18;May-18;Jun-18;Jul-18;Aug-18;Sep-18;Oct-18;Nov-18;Dec-18;Jan-19;Feb-19;Mar-19;Apr-19;May-19;Jun-19;Jul-19;Aug-19;Sep-19;Oct-19;Nov-19;Dec-19\n",
    "Crude Steel;2.914;2.766;3.113;2.995;2.724;2.970;3.086;2.914;3.081;3.224;2.911;2.709;3.021;2.747;2.878;2.970;2.826;2.883;2.505;2.537;2.394;2.690;2.657;2.462\n",
    "Rolled Products;1.923;1.861;2.130;2.038;2.026;1.918;1.947;1.906;2.107;2.129;2.054;1.657;1.907;1.865;2.060;1.942;2.010;1.801;1.894;1.895;1.969;1.887;1.774;1.482\n",
    "Pig Iron;2.368;2.171;2.442;2.356;2.239;2.375;2.481;2.349;2.533;2.557;2.345;2.439;2.451;2.201;2.356;2.383;2.295;2.277;1.879;1.926;1.906;2.193;2.179;2.233\n",
    "''').replace('.', '')\n",
    "x\n",
    "\n"
   ]
  },
  {
   "cell_type": "code",
   "execution_count": null,
   "metadata": {},
   "outputs": [],
   "source": []
  },
  {
   "cell_type": "markdown",
   "metadata": {},
   "source": [
    "Assim os dados foram carregados no Google data Studio com sucesso"
   ]
  },
  {
   "cell_type": "markdown",
   "metadata": {},
   "source": [
    "<img src=\"https://i.ibb.co/1m2b48B/data-ok.png\" width=\"1200\" alt=\"Reduced Data\"  /> \n"
   ]
  },
  {
   "cell_type": "markdown",
   "metadata": {},
   "source": [
    ">Dados upados com sucesso no google data studio\n",
    "<hr>"
   ]
  },
  {
   "cell_type": "markdown",
   "metadata": {},
   "source": [
    "# <h2 id=\"5\">4. Dashboards</h2>"
   ]
  },
  {
   "cell_type": "markdown",
   "metadata": {},
   "source": []
  },
  {
   "cell_type": "markdown",
   "metadata": {},
   "source": []
  },
  {
   "cell_type": "code",
   "execution_count": 43,
   "metadata": {},
   "outputs": [
    {
     "name": "stdout",
     "output_type": "stream",
     "text": [
      "Ref,2018-01-01,2018-02-01,2018-03-01,2018-04-01,2018-05-01,2018-06-01,2018-07-01,2018-08-01,2018-09-01,2018-10-01,2018-11-01,2018-12-01,2019-01-01,2019-02-01,2019-03-01,2019-04-01,2019-05-01,2019-06-01,2019-07-01,2019-08-01,2019-09-01,2019-10-01,2019-11-01,2019-12-01\n",
      "Rolled Products,488,398,476,379,301,404,267,502,216,407,491,421,543,373,254,348,410,379,267,274,371,423,294,225\n",
      "Thousand Tonnes,1.352,1.034,1.192,1.098,753,1.451,984,602,1.055,1.822,1.315,1.287,1.583,897,811,1.064,1.235,1.099,1.000,917,956,1.144,1.089,1.010\n",
      "US$ Millions,796,604,753,706,484,949,627,488,704,1.177,843,743,946,545,464,616,760,686,582,538,523,604,543,502\n"
     ]
    }
   ],
   "source": [
    "x = ('''Ref;2018-01-01;2018-02-01;2018-03-01;2018-04-01;2018-05-01;2018-06-01;2018-07-01;2018-08-01;2018-09-01;2018-10-01;2018-11-01;2018-12-01;2019-01-01;2019-02-01;2019-03-01;2019-04-01;2019-05-01;2019-06-01;2019-07-01;2019-08-01;2019-09-01;2019-10-01;2019-11-01;2019-12-01\n",
    "Rolled Products;488;398;476;379;301;404;267;502;216;407;491;421;543;373;254;348;410;379;267;274;371;423;294;225\n",
    "Thousand Tonnes;1.352;1.034;1.192;1.098;753;1.451;984;602;1.055;1.822;1.315;1.287;1.583;897;811;1.064;1.235;1.099;1.000;917;956;1.144;1.089;1.010\n",
    "US$ Millions;796;604;753;706;484;949;627;488;704;1.177;843;743;946;545;464;616;760;686;582;538;523;604;543;502''').replace(';', ',')\n",
    "print(x)"
   ]
  },
  {
   "cell_type": "code",
   "execution_count": null,
   "metadata": {},
   "outputs": [],
   "source": []
  }
 ],
 "metadata": {
  "interpreter": {
   "hash": "5d11380547bba1e6c4b0ab7b7614350493a6d4caf256d9be4e363829d8f5c452"
  },
  "kernelspec": {
   "display_name": "Python 3.10.1 64-bit",
   "language": "python",
   "name": "python3"
  },
  "language_info": {
   "codemirror_mode": {
    "name": "ipython",
    "version": 3
   },
   "file_extension": ".py",
   "mimetype": "text/x-python",
   "name": "python",
   "nbconvert_exporter": "python",
   "pygments_lexer": "ipython3",
   "version": "3.10.4"
  },
  "orig_nbformat": 4
 },
 "nbformat": 4,
 "nbformat_minor": 2
}
