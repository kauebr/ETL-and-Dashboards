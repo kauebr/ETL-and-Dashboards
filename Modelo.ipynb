{
 "cells": [
  {
   "cell_type": "markdown",
   "metadata": {},
   "source": [
    "<img src=\"https://i.ibb.co/2t8djfy/datascience-Banner.png\" width=\"1200\" alt=\"KCode Banner\"  /> \n",
    "\n",
    "<a href=\"https://www.linkedin.com/in/kauebr/\"><img src=\"https://cdn-icons-png.flaticon.com/512/174/174857.png\" width=\"30\" ></a> <a href=\"mailto: kauemandarino@gmail.com\"><img src=\"https://cdn-icons-png.flaticon.com/512/5968/5968534.png\" width=\"30\" ></a><a href=\"\n",
    "https://api.whatsapp.com/send?phone=5541991835800&text=Oi\"> <img src=\"https://imagepng.org/wp-content/uploads/2017/08/whatsapp-icone-1.png\" width=\"30\" ></a><a href=\"https://github.com/kauebr/\"><img src=\"https://github.githubassets.com/images/modules/logos_page/Octocat.png\" width=\"30\" ></a>\n",
    "\n"
   ]
  },
  {
   "cell_type": "markdown",
   "metadata": {},
   "source": [
    "# Google Data Studio Dashboards\n",
    "\n",
    "## Objectives:\n",
    "* Obtain an open dataset about Brazilian steel industry;\n",
    "* Reduzir os dados;\n",
    "* Model the reduced information and transform into a dataframe;\n",
    "* Load our dataframe into Google Data Studio;\n",
    "* Create dashboards.\n",
    "<hr>"
   ]
  },
  {
   "cell_type": "markdown",
   "metadata": {},
   "source": [
    "<h1>Summary</h1>\n",
    "\n",
    "<div class=\"alert alert-block alert-info\" style=\"margin-top: 20px\">\n",
    "    <ol>\n",
    "        <li><a href=#DF>Criando DataFrame</a></li>\n",
    "        <li><a href=#Dados>Entendendo os dados</a></li>\n",
    "        <li><a href=#Graf>Gráficos</a></li>\n",
    "        <li><a href=#TT>Treino e teste</a></li>\n",
    "        <li><a href=#Reg>Criando Modelo de regressão linear múltipla</a></li>\n",
    "        <li><a href=#Pred>Predições e Avaliações</a></li>    \n",
    "    </ol>\n",
    "</div>\n",
    "<br>\n",
    "<hr>\n",
    "\n"
   ]
  },
  {
   "cell_type": "markdown",
   "metadata": {},
   "source": [
    "# <h2 id=\"1\">1. Data Mining</h2>"
   ]
  },
  {
   "cell_type": "markdown",
   "metadata": {},
   "source": [
    "## In this step, we will use a dataset from the [Brazilian Steel Institute](https://acobrasil.org.br/site/sobre-o-instituto/), an entity founded in 1963 that represents Brazilian steel-producing companies. This dataset contains data of Brazilian steel production from 2013 to 2022. [Source](https://acobrasil.org.br/site/estatistica-mensal/#:~:text=O%20consumo%20aparente%20de%20produtos,m%C3%AAs%20de%20mar%C3%A7o%20de%202022.)"
   ]
  },
  {
   "cell_type": "markdown",
   "metadata": {},
   "source": [
    "### Let's take a look at the raw data, it came in .xls format\n",
    "\n",
    "<img src=\"https://i.ibb.co/s2FkvZS/raw-dataset.png\" width=\"1200\" alt=\"raw dataset\"  /> \n",
    "\n"
   ]
  },
  {
   "cell_type": "markdown",
   "metadata": {},
   "source": [
    "As informações estão semi extruturadas\n",
    "Dataset size: 41 rows, 114 columns with a total of 4407 unique values.\n",
    "<hr>"
   ]
  },
  {
   "cell_type": "markdown",
   "metadata": {},
   "source": [
    "# <h2 id=\"1\">2. Data Reduce</h2>"
   ]
  },
  {
   "cell_type": "markdown",
   "metadata": {},
   "source": [
    "## Vamo escolher algumas informações para analisarmos\n",
    " * Utilizando o EXCEL selecionamos apenas os anos de 2019 e 2020 , foi o periodo anterior e imediato após a pandemia de covid19.\n",
    "Para isto fiz uma cópia da planinha dos dados originais, descongeleis os painéis e exclui os dados referentes aos outros anos, deixando somente os dados de 2019 a 2020.\n",
    "Ficou assim:"
   ]
  },
  {
   "cell_type": "markdown",
   "metadata": {},
   "source": [
    "<img src=\"https://i.ibb.co/KXNBfpz/filtered-data.png\" width=\"1200\" alt=\"Filtered Data\"  /> \n"
   ]
  },
  {
   "cell_type": "markdown",
   "metadata": {},
   "source": [
    "Após isto selecionei algumas caracteristicas para aplicar nossa análise e destaquei elas em amarelo"
   ]
  },
  {
   "cell_type": "markdown",
   "metadata": {},
   "source": [
    "<img src=\"https://i.ibb.co/7CS67Dj/high-info.png\" width=\"1200\" alt=\"High Info\"  /> \n"
   ]
  },
  {
   "cell_type": "markdown",
   "metadata": {},
   "source": [
    "Ao reduzir as informações notamos que os dados estavam linkados e com auto soma, o que deu erro de referencia, a solução foi fixar os dados antes de https:/\n",
    "<img src=\"https://i.ibb.co/zS7HYXR/ref-error.png\" width=\"1200\" alt=\"Ref Error\"  /> \n"
   ]
  },
  {
   "cell_type": "markdown",
   "metadata": {},
   "source": [
    "Uma vez fixados os dados reduzimos nosso conjunto a isto;\n",
    "<img src=\"https://i.ibb.co/0c2nPjD/reduced-data.png\" width=\"1200\" alt=\"Reduced Data\"  /> \n",
    "\n",
    "Os 4407 valores inicias do conjunto agora foram reduzidos para apenas 264\n",
    "\n",
    "A etapa de redução foi concluída\n",
    "<hr>"
   ]
  },
  {
   "cell_type": "markdown",
   "metadata": {},
   "source": [
    "# <h2 id=\"3\">3. Data Modeling</h2>"
   ]
  },
  {
   "cell_type": "markdown",
   "metadata": {},
   "source": [
    "## Nesta etapa vamos modelar os dados em um dataframe que consiga ser lido pelo google data studio posteriormente"
   ]
  },
  {
   "cell_type": "markdown",
   "metadata": {},
   "source": [
    "primeiramente padronizamos as datas e extruturamos as informações em modelo matricial"
   ]
  },
  {
   "cell_type": "markdown",
   "metadata": {},
   "source": [
    "<img src=\"https://i.ibb.co/R2zNGNZ/data-modeling.png\" width=\"1200\" alt=\"Reduced Data\"  /> \n"
   ]
  },
  {
   "cell_type": "markdown",
   "metadata": {},
   "source": [
    "### Entao transformamos de xls para csv que é um excelente formato mais favoravel para o streaming de dados\n",
    "\n",
    "Criamos 3 arquivs .csv:\n",
    "\n",
    "* Producao 2018 ~ 2019\n",
    "\n",
    "* Exports 2018 ~ 2019\n",
    "\n",
    "* Imports 2018 ~ 2019\n"
   ]
  },
  {
   "cell_type": "markdown",
   "metadata": {},
   "source": [
    "`As informações no formato .csv ficaram assim:`\n",
    "\n",
    "Production;Jan-18;Feb-18;Mar-18;Apr-18;May-18;Jun-18;Jul-18;Aug-18;Sep-18;Oct-18;Nov-18;Dec-18;Jan-19;Feb-19;Mar-19;Apr-19;May-19;Jun-19;Jul-19;Aug-19;Sep-19;Oct-19;Nov-19;Dec-19\n",
    "Crude Steel;2.914;2.766;3.113;2.995;2.724;2.970;3.086;2.914;3.081;3.224;2.911;2.709;3.021;2.747;2.878;2.970;2.826;2.883;2.505;2.537;2.394;2.690;2.657;2.462\n",
    "Rolled Products;1.923;1.861;2.130;2.038;2.026;1.918;1.947;1.906;2.107;2.129;2.054;1.657;1.907;1.865;2.060;1.942;2.010;1.801;1.894;1.895;1.969;1.887;1.774;1.482\n",
    "Pig Iron;2.368;2.171;2.442;2.356;2.239;2.375;2.481;2.349;2.533;2.557;2.345;2.439;2.451;2.201;2.356;2.383;2.295;2.277;1.879;1.926;1.906;2.193;2.179;2.233\n",
    "\n",
    "Imports;Jan-18;Feb-18;Mar-18;Apr-18;May-18;Jun-18;Jul-18;Aug-18;Sep-18;Oct-18;Nov-18;Dec-18;Jan-19;Feb-19;Mar-19;Apr-19;May-19;Jun-19;Jul-19;Aug-19;Sep-19;Oct-19;Nov-19;Dec-19\n",
    "Rolled Products;215;147;212;198;200;228;213;182;189;123;170;157;174;176;196;180;231;166;199;182;182;209;126;133\n",
    "Thousand Tonnes;217;158;213;202;242;231;216;246;225;125;172;160;177;204;233;244;233;168;201;251;184;210;128;133\n",
    "US$ Millions;241;181;224;226;233;234;240;251;231;178;204;167;212;205;216;227;237;180;221;231;211;219;156;148\n",
    "\n",
    "Exports;Jan-18;Feb-18;Mar-18;Apr-18;May-18;Jun-18;Jul-18;Aug-18;Sep-18;Oct-18;Nov-18;Dec-18;Jan-19;Feb-19;Mar-19;Apr-19;May-19;Jun-19;Jul-19;Aug-19;Sep-19;Oct-19;Nov-19;Dec-19\n",
    "Rolled Products;488;398;476;379;301;404;267;502;216;407;491;421;543;373;254;348;410;379;267;274;371;423;294;225\n",
    "Thousand Tonnes;1.352;1.034;1.192;1.098;753;1.451;984;602;1.055;1.822;1.315;1.287;1.583;897;811;1.064;1.235;1.099;1.000;917;956;1.144;1.089;1.010\n",
    "US$ Millions;796;604;753;706;484;949;627;488;704;1.177;843;743;946;545;464;616;760;686;582;538;523;604;543;502"
   ]
  },
  {
   "cell_type": "markdown",
   "metadata": {},
   "source": [
    "Vamos testar a modelaçao das informações utilizando o pandas."
   ]
  },
  {
   "cell_type": "code",
   "execution_count": 1,
   "metadata": {},
   "outputs": [
    {
     "ename": "KeyboardInterrupt",
     "evalue": "",
     "output_type": "error",
     "traceback": [
      "\u001b[1;31m---------------------------------------------------------------------------\u001b[0m",
      "\u001b[1;31mKeyboardInterrupt\u001b[0m                         Traceback (most recent call last)",
      "File \u001b[1;32m<frozen importlib._bootstrap>:216\u001b[0m, in \u001b[0;36m_lock_unlock_module\u001b[1;34m(name)\u001b[0m\n",
      "\u001b[1;31mKeyboardInterrupt\u001b[0m: "
     ]
    },
    {
     "ename": "ImportError",
     "evalue": "Unable to import required dependencies:\nnumpy: numpy.core.multiarray failed to import",
     "output_type": "error",
     "traceback": [
      "\u001b[1;31m---------------------------------------------------------------------------\u001b[0m",
      "\u001b[1;31mImportError\u001b[0m                               Traceback (most recent call last)",
      "\u001b[1;32mc:\\Users\\manda\\OneDrive\\Documents\\GitHub\\ETL-and-Dashboards\\Modelo.ipynb Cell 22'\u001b[0m in \u001b[0;36m<cell line: 1>\u001b[1;34m()\u001b[0m\n\u001b[1;32m----> <a href='vscode-notebook-cell:/c%3A/Users/manda/OneDrive/Documents/GitHub/ETL-and-Dashboards/Modelo.ipynb#ch0000055?line=0'>1</a>\u001b[0m \u001b[39mimport\u001b[39;00m \u001b[39mpandas\u001b[39;00m \u001b[39mas\u001b[39;00m \u001b[39mpd\u001b[39;00m\n\u001b[0;32m      <a href='vscode-notebook-cell:/c%3A/Users/manda/OneDrive/Documents/GitHub/ETL-and-Dashboards/Modelo.ipynb#ch0000055?line=1'>2</a>\u001b[0m df_Productions \u001b[39m=\u001b[39m pd\u001b[39m.\u001b[39mread_csv(\u001b[39m'\u001b[39m\u001b[39mProductions.csv\u001b[39m\u001b[39m'\u001b[39m)\n\u001b[0;32m      <a href='vscode-notebook-cell:/c%3A/Users/manda/OneDrive/Documents/GitHub/ETL-and-Dashboards/Modelo.ipynb#ch0000055?line=2'>3</a>\u001b[0m df_Productions\n",
      "File \u001b[1;32mc:\\Users\\manda\\AppData\\Local\\Programs\\Python\\Python310\\lib\\site-packages\\pandas\\__init__.py:16\u001b[0m, in \u001b[0;36m<module>\u001b[1;34m\u001b[0m\n\u001b[0;32m     13\u001b[0m         missing_dependencies\u001b[39m.\u001b[39mappend(\u001b[39mf\u001b[39m\u001b[39m\"\u001b[39m\u001b[39m{\u001b[39;00mdependency\u001b[39m}\u001b[39;00m\u001b[39m: \u001b[39m\u001b[39m{\u001b[39;00me\u001b[39m}\u001b[39;00m\u001b[39m\"\u001b[39m)\n\u001b[0;32m     15\u001b[0m \u001b[39mif\u001b[39;00m missing_dependencies:\n\u001b[1;32m---> 16\u001b[0m     \u001b[39mraise\u001b[39;00m \u001b[39mImportError\u001b[39;00m(\n\u001b[0;32m     17\u001b[0m         \u001b[39m\"\u001b[39m\u001b[39mUnable to import required dependencies:\u001b[39m\u001b[39m\\n\u001b[39;00m\u001b[39m\"\u001b[39m \u001b[39m+\u001b[39m \u001b[39m\"\u001b[39m\u001b[39m\\n\u001b[39;00m\u001b[39m\"\u001b[39m\u001b[39m.\u001b[39mjoin(missing_dependencies)\n\u001b[0;32m     18\u001b[0m     )\n\u001b[0;32m     19\u001b[0m \u001b[39mdel\u001b[39;00m hard_dependencies, dependency, missing_dependencies\n\u001b[0;32m     21\u001b[0m \u001b[39m# numpy compat\u001b[39;00m\n",
      "\u001b[1;31mImportError\u001b[0m: Unable to import required dependencies:\nnumpy: numpy.core.multiarray failed to import"
     ]
    }
   ],
   "source": [
    "import pandas as pd\n",
    "df_Productions = pd.read_csv('Productions.csv')\n",
    "df_Productions"
   ]
  },
  {
   "cell_type": "markdown",
   "metadata": {},
   "source": []
  }
 ],
 "metadata": {
  "interpreter": {
   "hash": "5d11380547bba1e6c4b0ab7b7614350493a6d4caf256d9be4e363829d8f5c452"
  },
  "kernelspec": {
   "display_name": "Python 3.10.1 64-bit",
   "language": "python",
   "name": "python3"
  },
  "language_info": {
   "codemirror_mode": {
    "name": "ipython",
    "version": 3
   },
   "file_extension": ".py",
   "mimetype": "text/x-python",
   "name": "python",
   "nbconvert_exporter": "python",
   "pygments_lexer": "ipython3",
   "version": "3.10.4"
  },
  "orig_nbformat": 4
 },
 "nbformat": 4,
 "nbformat_minor": 2
}
