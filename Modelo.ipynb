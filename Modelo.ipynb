{
 "cells": [
  {
   "cell_type": "markdown",
   "metadata": {},
   "source": [
    "<img src=\"https://i.ibb.co/2t8djfy/datascience-Banner.png\" width=\"1200\" alt=\"KCode Banner\"  /> \n",
    "\n",
    "<a href=\"https://www.linkedin.com/in/kauebr/\"><img src=\"https://cdn-icons-png.flaticon.com/512/174/174857.png\" width=\"30\" ></a> <a href=\"mailto: kauemandarino@gmail.com\"><img src=\"https://cdn-icons-png.flaticon.com/512/5968/5968534.png\" width=\"30\" ></a><a href=\"\n",
    "https://api.whatsapp.com/send?phone=5541991835800&text=Oi\"> <img src=\"https://imagepng.org/wp-content/uploads/2017/08/whatsapp-icone-1.png\" width=\"30\" ></a><a href=\"https://github.com/kauebr/\"><img src=\"https://github.githubassets.com/images/modules/logos_page/Octocat.png\" width=\"30\" ></a>\n",
    "\n"
   ]
  },
  {
   "cell_type": "markdown",
   "metadata": {},
   "source": [
    "# Google Data Studio Dashboards\n",
    "\n",
    "## Objectives:\n",
    "* Obtain an open dataset about Brazilian steel industry;\n",
    "* Reduzir os dados;\n",
    "* Model the reduced information and transform into a dataframe;\n",
    "* Load our dataframe into Google Data Studio;\n",
    "* Create dashboards.\n",
    "<hr>"
   ]
  },
  {
   "cell_type": "markdown",
   "metadata": {},
   "source": [
    "<h1>Summary</h1>\n",
    "\n",
    "<div class=\"alert alert-block alert-info\" style=\"margin-top: 20px\">\n",
    "    <ol>\n",
    "        <li><a href=#DF>Criando DataFrame</a></li>\n",
    "        <li><a href=#Dados>Entendendo os dados</a></li>\n",
    "        <li><a href=#Graf>Gráficos</a></li>\n",
    "        <li><a href=#TT>Treino e teste</a></li>\n",
    "        <li><a href=#Reg>Criando Modelo de regressão linear múltipla</a></li>\n",
    "        <li><a href=#Pred>Predições e Avaliações</a></li>    \n",
    "    </ol>\n",
    "</div>\n",
    "<br>\n",
    "<hr>\n",
    "\n"
   ]
  },
  {
   "cell_type": "markdown",
   "metadata": {},
   "source": [
    "# <h2 id=\"1\">1. Data Mining</h2>"
   ]
  },
  {
   "cell_type": "markdown",
   "metadata": {},
   "source": [
    "## In this step, we will use a dataset from the [Brazilian Steel Institute](https://acobrasil.org.br/site/sobre-o-instituto/), an entity founded in 1963 that represents Brazilian steel-producing companies. This dataset contains data of Brazilian steel production from 2013 to 2022. [Source](https://acobrasil.org.br/site/estatistica-mensal/#:~:text=O%20consumo%20aparente%20de%20produtos,m%C3%AAs%20de%20mar%C3%A7o%20de%202022.)"
   ]
  },
  {
   "cell_type": "markdown",
   "metadata": {},
   "source": [
    "### Let's take a look at the raw data, it came in .xls format\n",
    "\n",
    "<img src=\"https://i.ibb.co/s2FkvZS/raw-dataset.png\" width=\"1200\" alt=\"raw dataset\"  /> \n",
    "\n"
   ]
  },
  {
   "cell_type": "markdown",
   "metadata": {},
   "source": [
    "As informações estão semi extruturadas\n",
    "Dataset size: 41 rows, 114 columns with a total of 4407 unique values.\n",
    "<hr>"
   ]
  },
  {
   "cell_type": "markdown",
   "metadata": {},
   "source": [
    "# <h2 id=\"1\">2. Data Reduce</h2>"
   ]
  },
  {
   "cell_type": "markdown",
   "metadata": {},
   "source": [
    "## Vamo escolher algumas informações para analisarmos\n",
    " * Utilizando o EXCEL selecionamos apenas os anos de 2019 e 2020 , foi o periodo anterior e imediato após a pandemia de covid19.\n",
    "Para isto fiz uma cópia da planinha dos dados originais, descongeleis os painéis e exclui os dados referentes aos outros anos, deixando somente os dados de 2019 a 2020.\n",
    "Ficou assim:"
   ]
  },
  {
   "cell_type": "markdown",
   "metadata": {},
   "source": [
    "<img src=\"https://i.ibb.co/KXNBfpz/filtered-data.png\" width=\"1200\" alt=\"Filtered Data\"  /> \n"
   ]
  },
  {
   "cell_type": "markdown",
   "metadata": {},
   "source": [
    "Após isto selecionei algumas caracteristicas para aplicar nossa análise e destaquei elas em amarelo"
   ]
  },
  {
   "cell_type": "markdown",
   "metadata": {},
   "source": [
    "<img src=\"https://i.ibb.co/7CS67Dj/high-info.png\" width=\"1200\" alt=\"High Info\"  /> \n"
   ]
  },
  {
   "cell_type": "markdown",
   "metadata": {},
   "source": [
    "Ao reduzir as informações notamos que os dados estavam linkados e com auto soma, o que deu erro de referencia, a solução foi fixar os dados antes de https:/\n",
    "<img src=\"https://i.ibb.co/zS7HYXR/ref-error.png\" width=\"1200\" alt=\"Ref Error\"  /> \n"
   ]
  },
  {
   "cell_type": "markdown",
   "metadata": {},
   "source": [
    "Uma vez fixados os dados reduzimos nosso conjunto a isto;\n",
    "<img src=\"https://i.ibb.co/0c2nPjD/reduced-data.png\" width=\"1200\" alt=\"Reduced Data\"  /> \n",
    "\n",
    "Os 4407 valores inicias do conjunto agora foram reduzidos para apenas 264\n",
    "\n",
    "A etapa de redução foi concluída\n",
    "<hr>"
   ]
  },
  {
   "cell_type": "markdown",
   "metadata": {},
   "source": [
    "# <h2 id=\"3\">3. Data Modeling</h2>"
   ]
  },
  {
   "cell_type": "markdown",
   "metadata": {},
   "source": [
    "## Nesta etapa vamos modelar os dados em um dataframe que consiga ser lido pelo google data studio posteriormente"
   ]
  },
  {
   "cell_type": "markdown",
   "metadata": {},
   "source": [
    "primeiramente padronizamos as datas e extruturamos as informações em modelo matricial"
   ]
  },
  {
   "cell_type": "markdown",
   "metadata": {},
   "source": [
    "<img src=\"https://i.ibb.co/R2zNGNZ/data-modeling.png\" width=\"1200\" alt=\"Reduced Data\"  /> \n"
   ]
  },
  {
   "cell_type": "markdown",
   "metadata": {},
   "source": [
    "Entao transformamos em csv que é um excelente formato para streaming de dados"
   ]
  },
  {
   "cell_type": "markdown",
   "metadata": {},
   "source": []
  }
 ],
 "metadata": {
  "interpreter": {
   "hash": "5d11380547bba1e6c4b0ab7b7614350493a6d4caf256d9be4e363829d8f5c452"
  },
  "kernelspec": {
   "display_name": "Python 3.10.1 64-bit",
   "language": "python",
   "name": "python3"
  },
  "language_info": {
   "codemirror_mode": {
    "name": "ipython",
    "version": 3
   },
   "file_extension": ".py",
   "mimetype": "text/x-python",
   "name": "python",
   "nbconvert_exporter": "python",
   "pygments_lexer": "ipython3",
   "version": "3.10.4"
  },
  "orig_nbformat": 4
 },
 "nbformat": 4,
 "nbformat_minor": 2
}
